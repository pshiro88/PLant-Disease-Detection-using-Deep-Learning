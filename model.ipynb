{
 "cells": [
  {
   "cell_type": "code",
   "execution_count": 3,
   "id": "6e1277a3",
   "metadata": {},
   "outputs": [],
   "source": [
    "import numpy as np\n",
    "import pickle\n",
    "import cv2\n",
    "from os import listdir\n",
    "from sklearn.preprocessing import LabelBinarizer, MultiLabelBinarizer\n",
    "from tensorflow.keras.models import Sequential\n",
    "from tensorflow.keras.layers import BatchNormalization, Conv2D, MaxPooling2D, Activation, Flatten, Dropout, Dense\n",
    "from tensorflow.keras.optimizers import Adam\n",
    "from tensorflow.keras.preprocessing.image import ImageDataGenerator, img_to_array\n",
    "from tensorflow.keras.preprocessing import image\n",
    "from sklearn.model_selection import train_test_split\n",
    "import matplotlib.pyplot as plt"
   ]
  },
  {
   "cell_type": "code",
   "execution_count": 4,
   "id": "31d4c77d",
   "metadata": {},
   "outputs": [],
   "source": [
    "from keras import backend as K\n",
    "import tensorflow as tf"
   ]
  },
  {
   "cell_type": "code",
   "execution_count": 6,
   "id": "51371578",
   "metadata": {},
   "outputs": [],
   "source": [
    "EPOCHS = 35\n",
    "INIT_LR = 1e-3\n",
    "BS = 32\n",
    "default_image_size = tuple((100,100))\n",
    "image_size = 0\n",
    "directory_root = 'C:\\\\Users\\\\hardik\\\\Downloads\\\\PlantVillage'\n",
    "width=100\n",
    "height=100\n",
    "depth=3"
   ]
  },
  {
   "cell_type": "code",
   "execution_count": 7,
   "id": "e44321e3",
   "metadata": {},
   "outputs": [],
   "source": [
    "def convert_image_to_array(image_dir):\n",
    "    try:\n",
    "        image = cv2.imread(image_dir)\n",
    "        if image is not None :\n",
    "            image = cv2.resize(image, default_image_size)   \n",
    "            return img_to_array(image)\n",
    "        else :\n",
    "            return np.array([])\n",
    "    except Exception as e:\n",
    "        print(f\"Error : {e}\")\n",
    "        return None"
   ]
  },
  {
   "cell_type": "code",
   "execution_count": 8,
   "id": "34141f8d",
   "metadata": {},
   "outputs": [
    {
     "name": "stdout",
     "output_type": "stream",
     "text": [
      "[INFO] Loading images ...\n",
      "[INFO] Processing Pepper__bell___Bacterial_spot ...\n",
      "[INFO] Processing Pepper__bell___healthy ...\n",
      "[INFO] Processing Potato___Early_blight ...\n",
      "[INFO] Processing Potato___healthy ...\n",
      "[INFO] Processing Potato___Late_blight ...\n",
      "[INFO] Processing Tomato_Bacterial_spot ...\n",
      "[INFO] Processing Tomato_Early_blight ...\n",
      "[INFO] Processing Tomato_healthy ...\n",
      "[INFO] Processing Tomato_Late_blight ...\n",
      "[INFO] Processing Tomato_Leaf_Mold ...\n",
      "[INFO] Processing Tomato_Septoria_leaf_spot ...\n",
      "[INFO] Processing Tomato_Spider_mites_Two_spotted_spider_mite ...\n",
      "[INFO] Processing Tomato__Target_Spot ...\n",
      "[INFO] Processing Tomato__Tomato_mosaic_virus ...\n",
      "[INFO] Processing Tomato__Tomato_YellowLeaf__Curl_Virus ...\n",
      "[INFO] Image loading completed\n"
     ]
    }
   ],
   "source": [
    "image_list, label_list = [], []\n",
    "try:\n",
    "    print(\"[INFO] Loading images ...\")\n",
    "    root_dir = listdir(directory_root)\n",
    "    for directory in root_dir :\n",
    "        # remove .DS_Store from list\n",
    "        if directory == \".DS_Store\" :\n",
    "            root_dir.remove(directory)\n",
    "\n",
    "    for plant_folder in root_dir :\n",
    "        plant_disease_folder_list = listdir(f\"{directory_root}/{plant_folder}\")\n",
    "        \n",
    "        for disease_folder in plant_disease_folder_list :\n",
    "            # remove .DS_Store from list\n",
    "            if disease_folder == \".DS_Store\" :\n",
    "                plant_disease_folder_list.remove(disease_folder)\n",
    "\n",
    "        for plant_disease_folder in plant_disease_folder_list:\n",
    "            print(f\"[INFO] Processing {plant_disease_folder} ...\")\n",
    "            plant_disease_image_list = listdir(f\"{directory_root}/{plant_folder}/{plant_disease_folder}/\")\n",
    "                \n",
    "            for single_plant_disease_image in plant_disease_image_list :\n",
    "                if single_plant_disease_image == \".DS_Store\" :\n",
    "                    plant_disease_image_list.remove(single_plant_disease_image)\n",
    "\n",
    "            for image in plant_disease_image_list[:250]:\n",
    "                image_directory = f\"{directory_root}/{plant_folder}/{plant_disease_folder}/{image}\"\n",
    "                if image_directory.endswith(\".jpg\") == True or image_directory.endswith(\".JPG\") == True:\n",
    "                    image_list.append(convert_image_to_array(image_directory))\n",
    "                    label_list.append(plant_disease_folder)\n",
    "    print(\"[INFO] Image loading completed\")  \n",
    "except Exception as e:\n",
    "    print(f\"Error : {e}\")"
   ]
  },
  {
   "cell_type": "code",
   "execution_count": 9,
   "id": "357724dd",
   "metadata": {},
   "outputs": [],
   "source": [
    "image_size = len(image_list)"
   ]
  },
  {
   "cell_type": "code",
   "execution_count": 10,
   "id": "2d3f8cbb",
   "metadata": {},
   "outputs": [],
   "source": [
    "label_binarizer = LabelBinarizer()\n",
    "image_labels = label_binarizer.fit_transform(label_list)\n",
    "pickle.dump(label_binarizer,open('label_transform.pkl', 'wb'))\n",
    "n_classes = len(label_binarizer.classes_)"
   ]
  },
  {
   "cell_type": "code",
   "execution_count": 11,
   "id": "c6c48085",
   "metadata": {},
   "outputs": [
    {
     "name": "stdout",
     "output_type": "stream",
     "text": [
      "['Pepper__bell___Bacterial_spot' 'Pepper__bell___healthy'\n",
      " 'Potato___Early_blight' 'Potato___Late_blight' 'Potato___healthy'\n",
      " 'Tomato_Bacterial_spot' 'Tomato_Early_blight' 'Tomato_Late_blight'\n",
      " 'Tomato_Leaf_Mold' 'Tomato_Septoria_leaf_spot'\n",
      " 'Tomato_Spider_mites_Two_spotted_spider_mite' 'Tomato__Target_Spot'\n",
      " 'Tomato__Tomato_YellowLeaf__Curl_Virus' 'Tomato__Tomato_mosaic_virus'\n",
      " 'Tomato_healthy']\n"
     ]
    }
   ],
   "source": [
    "print(label_binarizer.classes_)"
   ]
  },
  {
   "cell_type": "code",
   "execution_count": 12,
   "id": "20297deb",
   "metadata": {},
   "outputs": [],
   "source": [
    "np_image_list = np.array(image_list, dtype=np.float16) / 225.0"
   ]
  },
  {
   "cell_type": "code",
   "execution_count": 13,
   "id": "c844fb74",
   "metadata": {},
   "outputs": [
    {
     "name": "stdout",
     "output_type": "stream",
     "text": [
      "[INFO] Spliting data to train, test\n"
     ]
    }
   ],
   "source": [
    "print(\"[INFO] Spliting data to train, test\")\n",
    "x_train, x_test, y_train, y_test = train_test_split(np_image_list, image_labels, test_size=0.2, random_state = 42) "
   ]
  },
  {
   "cell_type": "code",
   "execution_count": 14,
   "id": "e52f13a8",
   "metadata": {},
   "outputs": [],
   "source": [
    "aug = ImageDataGenerator(\n",
    "    rotation_range=25, width_shift_range=0.1,\n",
    "    height_shift_range=0.1, shear_range=0.2, \n",
    "    zoom_range=0.2,horizontal_flip=True, \n",
    "    fill_mode=\"nearest\")"
   ]
  },
  {
   "cell_type": "code",
   "execution_count": 15,
   "id": "550c5f4c",
   "metadata": {},
   "outputs": [],
   "source": [
    "model = Sequential()\n",
    "inputShape = (height, width, depth)\n",
    "chanDim = -1\n",
    "if K.image_data_format() == \"channels_first\":\n",
    "    inputShape = (depth, height, width)\n",
    "    chanDim = 1\n",
    "model.add(Conv2D(32, (3, 3), padding=\"same\",input_shape=inputShape))\n",
    "model.add(Activation(\"relu\"))\n",
    "model.add(BatchNormalization(axis=chanDim))\n",
    "model.add(MaxPooling2D(pool_size=(3, 3)))\n",
    "model.add(Dropout(0.25))\n",
    "model.add(Conv2D(64, (3, 3), padding=\"same\"))\n",
    "model.add(Activation(\"relu\"))\n",
    "model.add(BatchNormalization(axis=chanDim))\n",
    "model.add(Conv2D(64, (3, 3), padding=\"same\"))\n",
    "model.add(Activation(\"relu\"))\n",
    "model.add(BatchNormalization(axis=chanDim))\n",
    "model.add(Conv2D(64, (3, 3), padding=\"same\"))\n",
    "model.add(Activation(\"relu\"))\n",
    "model.add(BatchNormalization(axis=chanDim))\n",
    "model.add(MaxPooling2D(pool_size=(2, 2)))\n",
    "model.add(Dropout(0.25))\n",
    "model.add(Conv2D(128, (3, 3), padding=\"same\"))\n",
    "model.add(Activation(\"relu\"))\n",
    "model.add(BatchNormalization(axis=chanDim))\n",
    "model.add(Conv2D(128, (3, 3), padding=\"same\"))\n",
    "model.add(Activation(\"relu\"))\n",
    "model.add(BatchNormalization(axis=chanDim))\n",
    "model.add(MaxPooling2D(pool_size=(2, 2)))\n",
    "model.add(Dropout(0.25))\n",
    "model.add(Flatten())\n",
    "model.add(Dense(1024))\n",
    "model.add(Activation(\"relu\"))\n",
    "model.add(BatchNormalization())\n",
    "model.add(Dropout(0.5))\n",
    "model.add(Dense(n_classes))\n",
    "model.add(Activation(\"softmax\"))"
   ]
  },
  {
   "cell_type": "code",
   "execution_count": 16,
   "id": "12391188",
   "metadata": {},
   "outputs": [
    {
     "name": "stdout",
     "output_type": "stream",
     "text": [
      "Model: \"sequential\"\n",
      "_________________________________________________________________\n",
      " Layer (type)                Output Shape              Param #   \n",
      "=================================================================\n",
      " conv2d (Conv2D)             (None, 100, 100, 32)      896       \n",
      "                                                                 \n",
      " activation (Activation)     (None, 100, 100, 32)      0         \n",
      "                                                                 \n",
      " batch_normalization (BatchN  (None, 100, 100, 32)     128       \n",
      " ormalization)                                                   \n",
      "                                                                 \n",
      " max_pooling2d (MaxPooling2D  (None, 33, 33, 32)       0         \n",
      " )                                                               \n",
      "                                                                 \n",
      " dropout (Dropout)           (None, 33, 33, 32)        0         \n",
      "                                                                 \n",
      " conv2d_1 (Conv2D)           (None, 33, 33, 64)        18496     \n",
      "                                                                 \n",
      " activation_1 (Activation)   (None, 33, 33, 64)        0         \n",
      "                                                                 \n",
      " batch_normalization_1 (Batc  (None, 33, 33, 64)       256       \n",
      " hNormalization)                                                 \n",
      "                                                                 \n",
      " conv2d_2 (Conv2D)           (None, 33, 33, 64)        36928     \n",
      "                                                                 \n",
      " activation_2 (Activation)   (None, 33, 33, 64)        0         \n",
      "                                                                 \n",
      " batch_normalization_2 (Batc  (None, 33, 33, 64)       256       \n",
      " hNormalization)                                                 \n",
      "                                                                 \n",
      " conv2d_3 (Conv2D)           (None, 33, 33, 64)        36928     \n",
      "                                                                 \n",
      " activation_3 (Activation)   (None, 33, 33, 64)        0         \n",
      "                                                                 \n",
      " batch_normalization_3 (Batc  (None, 33, 33, 64)       256       \n",
      " hNormalization)                                                 \n",
      "                                                                 \n",
      " max_pooling2d_1 (MaxPooling  (None, 16, 16, 64)       0         \n",
      " 2D)                                                             \n",
      "                                                                 \n",
      " dropout_1 (Dropout)         (None, 16, 16, 64)        0         \n",
      "                                                                 \n",
      " conv2d_4 (Conv2D)           (None, 16, 16, 128)       73856     \n",
      "                                                                 \n",
      " activation_4 (Activation)   (None, 16, 16, 128)       0         \n",
      "                                                                 \n",
      " batch_normalization_4 (Batc  (None, 16, 16, 128)      512       \n",
      " hNormalization)                                                 \n",
      "                                                                 \n",
      " conv2d_5 (Conv2D)           (None, 16, 16, 128)       147584    \n",
      "                                                                 \n",
      " activation_5 (Activation)   (None, 16, 16, 128)       0         \n",
      "                                                                 \n",
      " batch_normalization_5 (Batc  (None, 16, 16, 128)      512       \n",
      " hNormalization)                                                 \n",
      "                                                                 \n",
      " max_pooling2d_2 (MaxPooling  (None, 8, 8, 128)        0         \n",
      " 2D)                                                             \n",
      "                                                                 \n",
      " dropout_2 (Dropout)         (None, 8, 8, 128)         0         \n",
      "                                                                 \n",
      " flatten (Flatten)           (None, 8192)              0         \n",
      "                                                                 \n",
      " dense (Dense)               (None, 1024)              8389632   \n",
      "                                                                 \n",
      " activation_6 (Activation)   (None, 1024)              0         \n",
      "                                                                 \n",
      " batch_normalization_6 (Batc  (None, 1024)             4096      \n",
      " hNormalization)                                                 \n",
      "                                                                 \n",
      " dropout_3 (Dropout)         (None, 1024)              0         \n",
      "                                                                 \n",
      " dense_1 (Dense)             (None, 15)                15375     \n",
      "                                                                 \n",
      " activation_7 (Activation)   (None, 15)                0         \n",
      "                                                                 \n",
      "=================================================================\n",
      "Total params: 8,725,711\n",
      "Trainable params: 8,722,703\n",
      "Non-trainable params: 3,008\n",
      "_________________________________________________________________\n"
     ]
    }
   ],
   "source": [
    "model.summary()"
   ]
  },
  {
   "cell_type": "code",
   "execution_count": 20,
   "id": "3de53f6a",
   "metadata": {},
   "outputs": [
    {
     "name": "stdout",
     "output_type": "stream",
     "text": [
      "[INFO] training network...\n"
     ]
    }
   ],
   "source": [
    "#Compiling Model\n",
    "opt = tf.keras.optimizers.legacy.Adam(learning_rate=INIT_LR, decay=INIT_LR / EPOCHS)\n",
    "# distribution\n",
    "model.compile(loss=\"binary_crossentropy\", optimizer=opt,metrics=[\"accuracy\"])\n",
    "# train the network\n",
    "print(\"[INFO] training network...\")"
   ]
  },
  {
   "cell_type": "code",
   "execution_count": 21,
   "id": "d079d08f",
   "metadata": {},
   "outputs": [
    {
     "name": "stderr",
     "output_type": "stream",
     "text": [
      "C:\\Users\\hardik\\AppData\\Local\\Temp\\ipykernel_17028\\2474006815.py:2: UserWarning: `Model.fit_generator` is deprecated and will be removed in a future version. Please use `Model.fit`, which supports generators.\n",
      "  history = model.fit_generator(\n"
     ]
    },
    {
     "name": "stdout",
     "output_type": "stream",
     "text": [
      "Epoch 1/35\n",
      "91/91 [==============================] - 62s 653ms/step - loss: 0.6018 - accuracy: 0.2129 - val_loss: 0.6244 - val_accuracy: 0.0629\n",
      "Epoch 2/35\n",
      "91/91 [==============================] - 55s 601ms/step - loss: 0.1913 - accuracy: 0.4881 - val_loss: 0.6584 - val_accuracy: 0.0684\n",
      "Epoch 3/35\n",
      "91/91 [==============================] - 55s 607ms/step - loss: 0.1376 - accuracy: 0.6134 - val_loss: 0.4491 - val_accuracy: 0.1272\n",
      "Epoch 4/35\n",
      "91/91 [==============================] - 55s 607ms/step - loss: 0.1176 - accuracy: 0.6895 - val_loss: 0.4215 - val_accuracy: 0.1477\n",
      "Epoch 5/35\n",
      "91/91 [==============================] - 56s 618ms/step - loss: 0.1044 - accuracy: 0.7335 - val_loss: 0.3493 - val_accuracy: 0.3406\n",
      "Epoch 6/35\n",
      "91/91 [==============================] - 56s 615ms/step - loss: 0.0995 - accuracy: 0.7369 - val_loss: 0.3757 - val_accuracy: 0.3653\n",
      "Epoch 7/35\n",
      "91/91 [==============================] - 58s 632ms/step - loss: 0.0915 - accuracy: 0.7719 - val_loss: 0.1348 - val_accuracy: 0.6813\n",
      "Epoch 8/35\n",
      "91/91 [==============================] - 66s 726ms/step - loss: 0.0912 - accuracy: 0.7636 - val_loss: 0.3290 - val_accuracy: 0.4884\n",
      "Epoch 9/35\n",
      "91/91 [==============================] - 68s 748ms/step - loss: 0.0792 - accuracy: 0.8044 - val_loss: 0.1401 - val_accuracy: 0.6840\n",
      "Epoch 10/35\n",
      "91/91 [==============================] - 67s 732ms/step - loss: 0.0766 - accuracy: 0.8114 - val_loss: 0.1223 - val_accuracy: 0.7209\n",
      "Epoch 11/35\n",
      "91/91 [==============================] - 62s 683ms/step - loss: 0.0726 - accuracy: 0.8259 - val_loss: 0.2732 - val_accuracy: 0.5308\n",
      "Epoch 12/35\n",
      "91/91 [==============================] - 65s 712ms/step - loss: 0.0724 - accuracy: 0.8190 - val_loss: 0.4708 - val_accuracy: 0.6512\n",
      "Epoch 13/35\n",
      "91/91 [==============================] - 64s 699ms/step - loss: 0.0691 - accuracy: 0.8318 - val_loss: 0.7312 - val_accuracy: 0.6785\n",
      "Epoch 14/35\n",
      "91/91 [==============================] - 63s 697ms/step - loss: 0.0690 - accuracy: 0.8460 - val_loss: 1.7986 - val_accuracy: 0.6580\n",
      "Epoch 15/35\n",
      "91/91 [==============================] - 61s 675ms/step - loss: 0.0648 - accuracy: 0.8508 - val_loss: 0.2528 - val_accuracy: 0.5431\n",
      "Epoch 16/35\n",
      "91/91 [==============================] - 58s 639ms/step - loss: 0.1066 - accuracy: 0.7490 - val_loss: 0.3769 - val_accuracy: 0.4870\n",
      "Epoch 17/35\n",
      "91/91 [==============================] - 56s 616ms/step - loss: 0.0860 - accuracy: 0.7989 - val_loss: 0.1909 - val_accuracy: 0.6484\n",
      "Epoch 18/35\n",
      "91/91 [==============================] - 60s 654ms/step - loss: 0.0770 - accuracy: 0.8127 - val_loss: 0.3153 - val_accuracy: 0.3926\n",
      "Epoch 19/35\n",
      "91/91 [==============================] - 72s 792ms/step - loss: 0.0621 - accuracy: 0.8619 - val_loss: 0.1189 - val_accuracy: 0.7948\n",
      "Epoch 20/35\n",
      "91/91 [==============================] - 59s 649ms/step - loss: 0.0589 - accuracy: 0.8685 - val_loss: 0.1218 - val_accuracy: 0.7743\n",
      "Epoch 21/35\n",
      "91/91 [==============================] - 70s 776ms/step - loss: 0.0526 - accuracy: 0.8820 - val_loss: 0.0804 - val_accuracy: 0.8085\n",
      "Epoch 22/35\n",
      "91/91 [==============================] - 67s 728ms/step - loss: 0.0510 - accuracy: 0.8820 - val_loss: 0.1959 - val_accuracy: 0.5800\n",
      "Epoch 23/35\n",
      "91/91 [==============================] - 57s 629ms/step - loss: 0.0550 - accuracy: 0.8667 - val_loss: 0.0539 - val_accuracy: 0.8550\n",
      "Epoch 24/35\n",
      "91/91 [==============================] - 56s 614ms/step - loss: 0.0513 - accuracy: 0.8823 - val_loss: 0.4079 - val_accuracy: 0.5157\n",
      "Epoch 25/35\n",
      "91/91 [==============================] - 56s 611ms/step - loss: 0.0461 - accuracy: 0.8972 - val_loss: 0.2715 - val_accuracy: 0.5294\n",
      "Epoch 26/35\n",
      "91/91 [==============================] - 56s 615ms/step - loss: 0.0608 - accuracy: 0.8560 - val_loss: 0.4958 - val_accuracy: 0.3707\n",
      "Epoch 27/35\n",
      "91/91 [==============================] - 56s 611ms/step - loss: 0.0524 - accuracy: 0.8740 - val_loss: 0.1408 - val_accuracy: 0.7127\n",
      "Epoch 28/35\n",
      "91/91 [==============================] - 56s 614ms/step - loss: 0.0473 - accuracy: 0.8903 - val_loss: 0.1445 - val_accuracy: 0.7291\n",
      "Epoch 29/35\n",
      "91/91 [==============================] - 55s 609ms/step - loss: 0.0395 - accuracy: 0.9169 - val_loss: 0.1015 - val_accuracy: 0.7592\n",
      "Epoch 30/35\n",
      "91/91 [==============================] - 56s 616ms/step - loss: 0.0356 - accuracy: 0.9263 - val_loss: 0.2307 - val_accuracy: 0.6484\n",
      "Epoch 31/35\n",
      "91/91 [==============================] - 57s 621ms/step - loss: 0.0317 - accuracy: 0.9367 - val_loss: 0.1943 - val_accuracy: 0.6334\n",
      "Epoch 32/35\n",
      "91/91 [==============================] - 57s 622ms/step - loss: 0.0425 - accuracy: 0.9083 - val_loss: 0.0870 - val_accuracy: 0.7975\n",
      "Epoch 33/35\n",
      "91/91 [==============================] - 57s 623ms/step - loss: 0.0413 - accuracy: 0.9052 - val_loss: 0.2947 - val_accuracy: 0.5363\n",
      "Epoch 34/35\n",
      "91/91 [==============================] - 56s 615ms/step - loss: 0.0379 - accuracy: 0.9180 - val_loss: 0.2303 - val_accuracy: 0.6498\n",
      "Epoch 35/35\n",
      "91/91 [==============================] - 56s 611ms/step - loss: 0.0350 - accuracy: 0.9311 - val_loss: 0.0615 - val_accuracy: 0.8632\n"
     ]
    }
   ],
   "source": [
    "#Fitting Model\n",
    "history = model.fit_generator(\n",
    "    aug.flow(x_train, y_train, batch_size=BS),\n",
    "    validation_data=(x_test, y_test),\n",
    "    steps_per_epoch=len(x_train) // BS,\n",
    "    epochs=EPOCHS, verbose=1\n",
    "    )"
   ]
  },
  {
   "cell_type": "code",
   "execution_count": 22,
   "id": "535807a7",
   "metadata": {},
   "outputs": [
    {
     "name": "stdout",
     "output_type": "stream",
     "text": [
      "[INFO] Calculating model accuracy\n",
      "23/23 [==============================] - 3s 115ms/step - loss: 0.0615 - accuracy: 0.8632\n",
      "Test Accuracy: 86.32010817527771\n"
     ]
    }
   ],
   "source": [
    "print(\"[INFO] Calculating model accuracy\")\n",
    "scores = model.evaluate(x_test, y_test)\n",
    "print(f\"Test Accuracy: {scores[1]*100}\")"
   ]
  },
  {
   "cell_type": "code",
   "execution_count": 27,
   "id": "d94eb017",
   "metadata": {},
   "outputs": [
    {
     "name": "stderr",
     "output_type": "stream",
     "text": [
      "WARNING:absl:Found untraced functions such as _jit_compiled_convolution_op, _jit_compiled_convolution_op, _jit_compiled_convolution_op, _jit_compiled_convolution_op, _jit_compiled_convolution_op while saving (showing 5 of 6). These functions will not be directly callable after loading.\n"
     ]
    },
    {
     "name": "stdout",
     "output_type": "stream",
     "text": [
      "INFO:tensorflow:Assets written to: ./models/1\\assets\n"
     ]
    },
    {
     "name": "stderr",
     "output_type": "stream",
     "text": [
      "INFO:tensorflow:Assets written to: ./models/1\\assets\n"
     ]
    }
   ],
   "source": [
    "import os\n",
    "model_version=max([int(i) for i in os.listdir(\"./models\") + [0]])+1\n",
    "model.save(f\"./models/{model_version}\")"
   ]
  },
  {
   "cell_type": "code",
   "execution_count": 28,
   "id": "c0529e7b",
   "metadata": {},
   "outputs": [],
   "source": [
    "model.save(\"../model.h5\")"
   ]
  },
  {
   "cell_type": "code",
   "execution_count": null,
   "id": "73f43dde",
   "metadata": {},
   "outputs": [],
   "source": []
  }
 ],
 "metadata": {
  "kernelspec": {
   "display_name": "Python 3 (ipykernel)",
   "language": "python",
   "name": "python3"
  },
  "language_info": {
   "codemirror_mode": {
    "name": "ipython",
    "version": 3
   },
   "file_extension": ".py",
   "mimetype": "text/x-python",
   "name": "python",
   "nbconvert_exporter": "python",
   "pygments_lexer": "ipython3",
   "version": "3.9.12"
  }
 },
 "nbformat": 4,
 "nbformat_minor": 5
}
